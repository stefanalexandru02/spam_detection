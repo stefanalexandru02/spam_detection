{
 "cells": [
  {
   "cell_type": "code",
   "execution_count": null,
   "metadata": {},
   "outputs": [],
   "source": [
    "from data_helper import get_train_dataset, get_test_dataset, visualize"
   ]
  },
  {
   "cell_type": "code",
   "execution_count": null,
   "metadata": {},
   "outputs": [],
   "source": [
    "type = \"bare\""
   ]
  },
  {
   "cell_type": "code",
   "execution_count": null,
   "metadata": {},
   "outputs": [],
   "source": [
    "train_df = get_train_dataset(type)\n",
    "visualize(train_df)"
   ]
  },
  {
   "cell_type": "code",
   "execution_count": null,
   "metadata": {},
   "outputs": [],
   "source": [
    "print(f\"NOT SPAM: {train_df['is_spam'].value_counts()[0]}\")\n",
    "print(f\"SPAM: {train_df['is_spam'].value_counts()[1]}\")\n",
    "print(f\"NOT SPAM PERCENTAGE: {train_df['is_spam'].value_counts()[0] / len(train_df) * 100}%\")\n",
    "print(f\"SPAM PERCENTAGE: {train_df['is_spam'].value_counts()[1] / len(train_df) * 100}%\")"
   ]
  },
  {
   "cell_type": "code",
   "execution_count": null,
   "metadata": {},
   "outputs": [],
   "source": [
    "test_df = get_test_dataset(type)\n",
    "visualize(test_df)"
   ]
  },
  {
   "cell_type": "code",
   "execution_count": null,
   "metadata": {},
   "outputs": [],
   "source": [
    "print(f\"NOT SPAM: {test_df['is_spam'].value_counts()[0]}\")\n",
    "print(f\"NOT SPAM PERCENTAGE: {test_df['is_spam'].value_counts()[0] / len(test_df) * 100}%\")\n",
    "print(f\"SPAM: {test_df['is_spam'].value_counts()[1]}\")\n",
    "print(f\"SPAM PERCENTAGE: {test_df['is_spam'].value_counts()[1] / len(test_df) * 100}%\")"
   ]
  },
  {
   "cell_type": "code",
   "execution_count": null,
   "metadata": {},
   "outputs": [],
   "source": [
    "from sklearn.metrics import accuracy_score, confusion_matrix\n",
    "from sklearn.metrics import confusion_matrix\n",
    "from sklearn.metrics import accuracy_score, precision_score, recall_score\n",
    "import numpy as np"
   ]
  },
  {
   "cell_type": "code",
   "execution_count": null,
   "metadata": {},
   "outputs": [],
   "source": [
    "X_train = train_df.cleaned\n",
    "X_test = test_df.cleaned\n",
    "\n",
    "Y_train = train_df.is_spam\n",
    "Y_test = test_df.is_spam"
   ]
  },
  {
   "cell_type": "code",
   "execution_count": null,
   "metadata": {},
   "outputs": [],
   "source": [
    "X_train = np.array(X_train).reshape(-1, 1)\n",
    "Y_train = np.array(Y_train)\n",
    "\n",
    "X_test = np.array(X_test).reshape(-1, 1)\n",
    "Y_test = np.array(Y_test)"
   ]
  },
  {
   "cell_type": "code",
   "execution_count": null,
   "metadata": {},
   "outputs": [],
   "source": [
    "from ID3Classifier import ID3Classifier\n",
    "\n",
    "classifier = ID3Classifier()\n",
    "classifier.fit(X_train, Y_train)\n",
    "predictions = classifier.predict(X_test)\n",
    "\n",
    "print(confusion_matrix(predictions,Y_test))\n",
    "print(\"Accuracy : \", accuracy_score(predictions,Y_test))\n",
    "print(\"Precision : \", precision_score(predictions,Y_test, average = 'weighted'))\n",
    "print(\"Recall : \", recall_score(predictions,Y_test, average = 'weighted'))"
   ]
  }
 ],
 "metadata": {
  "kernelspec": {
   "display_name": "Python 3",
   "language": "python",
   "name": "python3"
  },
  "language_info": {
   "codemirror_mode": {
    "name": "ipython",
    "version": 3
   },
   "file_extension": ".py",
   "mimetype": "text/x-python",
   "name": "python",
   "nbconvert_exporter": "python",
   "pygments_lexer": "ipython3",
   "version": "3.9.6"
  },
  "orig_nbformat": 4
 },
 "nbformat": 4,
 "nbformat_minor": 2
}
