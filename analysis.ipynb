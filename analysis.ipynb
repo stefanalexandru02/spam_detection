{
 "cells": [
  {
   "cell_type": "code",
   "execution_count": 17,
   "metadata": {},
   "outputs": [],
   "source": [
    "from data_helper import get_train_dataset, get_test_dataset, visualize"
   ]
  },
  {
   "cell_type": "code",
   "execution_count": 18,
   "metadata": {},
   "outputs": [],
   "source": [
    "type = \"bare\""
   ]
  },
  {
   "cell_type": "code",
   "execution_count": 19,
   "metadata": {},
   "outputs": [
    {
     "data": {
      "image/png": "[encoded data removed]",
      "text/plain": [
       "<Figure size 1400x700 with 1 Axes>"
      ]
     },
     "metadata": {},
     "output_type": "display_data"
    },
    {
     "name": "stdout",
     "output_type": "stream",
     "text": [
      "0 0\n"
     ]
    }
   ],
   "source": [
    "df = get_train_dataset(type)\n",
    "visualize(df)"
   ]
  },
  {
   "cell_type": "code",
   "execution_count": 20,
   "metadata": {},
   "outputs": [
    {
     "name": "stdout",
     "output_type": "stream",
     "text": [
      "NOT SPAM: 2170\n",
      "SPAM: 432\n",
      "NOT SPAM PERCENTAGE: 83.39738662567257%\n",
      "SPAM PERCENTAGE: 16.60261337432744%\n"
     ]
    }
   ],
   "source": [
    "print(f\"NOT SPAM: {df['is_spam'].value_counts()[0]}\")\n",
    "print(f\"SPAM: {df['is_spam'].value_counts()[1]}\")\n",
    "print(f\"NOT SPAM PERCENTAGE: {df['is_spam'].value_counts()[0] / len(df) * 100}%\")\n",
    "print(f\"SPAM PERCENTAGE: {df['is_spam'].value_counts()[1] / len(df) * 100}%\")"
   ]
  },
  {
   "cell_type": "code",
   "execution_count": 21,
   "metadata": {},
   "outputs": [
    {
     "data": {
      "text/html": [
       "<div>\n",
       "<style scoped>\n",
       "    .dataframe tbody tr th:only-of-type {\n",
       "        vertical-align: middle;\n",
       "    }\n",
       "\n",
       "    .dataframe tbody tr th {\n",
       "        vertical-align: top;\n",
       "    }\n",
       "\n",
       "    .dataframe thead th {\n",
       "        text-align: right;\n",
       "    }\n",
       "</style>\n",
       "<table border=\"1\" class=\"dataframe\">\n",
       "  <thead>\n",
       "    <tr style=\"text-align: right;\">\n",
       "      <th></th>\n",
       "      <th>is_spam</th>\n",
       "      <th>cleaned</th>\n",
       "    </tr>\n",
       "  </thead>\n",
       "  <tbody>\n",
       "    <tr>\n",
       "      <th>0</th>\n",
       "      <td>0</td>\n",
       "      <td>conference announcement first announcement gro...</td>\n",
       "    </tr>\n",
       "    <tr>\n",
       "      <th>1</th>\n",
       "      <td>1</td>\n",
       "      <td>life without debt pardon intrusion offence mea...</td>\n",
       "    </tr>\n",
       "    <tr>\n",
       "      <th>2</th>\n",
       "      <td>1</td>\n",
       "      <td>want best economical hunting vacation life wan...</td>\n",
       "    </tr>\n",
       "    <tr>\n",
       "      <th>3</th>\n",
       "      <td>0</td>\n",
       "      <td>query uninflected tags anybody know recent wor...</td>\n",
       "    </tr>\n",
       "    <tr>\n",
       "      <th>4</th>\n",
       "      <td>0</td>\n",
       "      <td>accent allowed anybody else seen weird piece n...</td>\n",
       "    </tr>\n",
       "  </tbody>\n",
       "</table>\n",
       "</div>"
      ],
      "text/plain": [
       "   is_spam                                            cleaned\n",
       "0        0  conference announcement first announcement gro...\n",
       "1        1  life without debt pardon intrusion offence mea...\n",
       "2        1  want best economical hunting vacation life wan...\n",
       "3        0  query uninflected tags anybody know recent wor...\n",
       "4        0  accent allowed anybody else seen weird piece n..."
      ]
     },
     "execution_count": 21,
     "metadata": {},
     "output_type": "execute_result"
    }
   ],
   "source": [
    "df.head()"
   ]
  },
  {
   "cell_type": "markdown",
   "metadata": {},
   "source": [
    "ADA BOOST CLASSIFIER"
   ]
  },
  {
   "cell_type": "code",
   "execution_count": 22,
   "metadata": {},
   "outputs": [],
   "source": [
    "from sklearn.feature_extraction.text import TfidfVectorizer\n",
    "from sklearn.naive_bayes import MultinomialNB\n",
    "from sklearn.ensemble import AdaBoostClassifier\n",
    "from sklearn.model_selection import train_test_split\n",
    "from sklearn.metrics import accuracy_score, confusion_matrix, classification_report\n",
    "from sklearn.linear_model import LogisticRegression\n",
    "from sklearn.tree import DecisionTreeClassifier\n",
    "from sklearn.naive_bayes import GaussianNB\n",
    "from sklearn.metrics import confusion_matrix\n",
    "from sklearn.metrics import classification_report\n",
    "from sklearn.model_selection import train_test_split\n",
    "from sklearn.metrics import accuracy_score, precision_score, recall_score\n",
    "from sklearn.model_selection import GridSearchCV\n",
    "from sklearn.neighbors import KNeighborsClassifier\n",
    "from sklearn.model_selection import cross_val_score\n",
    "from sklearn.cluster import KMeans\n",
    "import warnings\n",
    "from sklearn.pipeline import Pipeline"
   ]
  },
  {
   "cell_type": "code",
   "execution_count": 23,
   "metadata": {},
   "outputs": [],
   "source": [
    "X = df.cleaned\n",
    "Y = df.is_spam\n",
    "\n",
    "# not ok. actually you should use our method... stupid I know\n",
    "X_train, X_test, Y_train, Y_test = train_test_split(X, Y, test_size = 0.1, random_state = 225,stratify=Y)\n",
    "\n",
    "tvec = TfidfVectorizer()\n",
    "lr = LogisticRegression(solver = \"lbfgs\")"
   ]
  },
  {
   "cell_type": "markdown",
   "metadata": {},
   "source": [
    "ADA BOOST"
   ]
  },
  {
   "cell_type": "code",
   "execution_count": 24,
   "metadata": {},
   "outputs": [
    {
     "name": "stdout",
     "output_type": "stream",
     "text": [
      "[[215   2]\n",
      " [  3  41]]\n",
      "Accuracy :  0.9808429118773946\n",
      "Precision :  0.9807174323370994\n",
      "Recall :  0.9808429118773946\n"
     ]
    }
   ],
   "source": [
    "abc = AdaBoostClassifier()\n",
    "model_1 = Pipeline([('vectorizer',tvec),('classifier',abc)])\n",
    "model_1.fit(X_train,Y_train)\n",
    "\n",
    "\n",
    "y_pred = model_1.predict(X_test)\n",
    "\n",
    "print(confusion_matrix(y_pred,Y_test))\n",
    "print(\"Accuracy : \", accuracy_score(y_pred,Y_test))\n",
    "print(\"Precision : \", precision_score(y_pred,Y_test, average = 'weighted'))\n",
    "print(\"Recall : \", recall_score(y_pred,Y_test, average = 'weighted'))"
   ]
  },
  {
   "cell_type": "markdown",
   "metadata": {},
   "source": [
    "NAIVE BAIES"
   ]
  },
  {
   "cell_type": "code",
   "execution_count": 25,
   "metadata": {},
   "outputs": [
    {
     "name": "stdout",
     "output_type": "stream",
     "text": [
      "[[218  30]\n",
      " [  0  13]]\n",
      "Accuracy :  0.8850574712643678\n",
      "Precision :  0.9652499331729484\n",
      "Recall :  0.8850574712643678\n"
     ]
    }
   ],
   "source": [
    "mnb = MultinomialNB()\n",
    "model_2 = Pipeline([('vectorizer',tvec),('classifier',mnb)])\n",
    "model_2.fit(X_train,Y_train)\n",
    "\n",
    "\n",
    "y_pred = model_2.predict(X_test)\n",
    "\n",
    "print(confusion_matrix(y_pred,Y_test))\n",
    "print(\"Accuracy : \", accuracy_score(y_pred,Y_test))\n",
    "print(\"Precision : \", precision_score(y_pred,Y_test, average = 'weighted'))\n",
    "print(\"Recall : \", recall_score(y_pred,Y_test, average = 'weighted'))"
   ]
  },
  {
   "cell_type": "markdown",
   "metadata": {},
   "source": [
    "KNN"
   ]
  },
  {
   "cell_type": "code",
   "execution_count": 26,
   "metadata": {},
   "outputs": [
    {
     "name": "stdout",
     "output_type": "stream",
     "text": [
      "[[214   5]\n",
      " [  4  38]]\n",
      "Accuracy :  0.9655172413793104\n",
      "Precision :  0.9658924538157634\n",
      "Recall :  0.9655172413793104\n"
     ]
    }
   ],
   "source": [
    "knn = KNeighborsClassifier()\n",
    "model_3 = Pipeline([('vectorizer',tvec),('classifier',knn)])\n",
    "model_3.fit(X_train,Y_train)\n",
    "\n",
    "y_pred = model_3.predict(X_test)\n",
    "\n",
    "print(confusion_matrix(y_pred,Y_test))\n",
    "print(\"Accuracy : \", accuracy_score(y_pred,Y_test))\n",
    "print(\"Precision : \", precision_score(y_pred,Y_test, average = 'weighted'))\n",
    "print(\"Recall : \", recall_score(y_pred,Y_test, average = 'weighted'))"
   ]
  },
  {
   "cell_type": "markdown",
   "metadata": {},
   "source": [
    "CLUSTERING"
   ]
  },
  {
   "cell_type": "code",
   "execution_count": 27,
   "metadata": {},
   "outputs": [
    {
     "name": "stdout",
     "output_type": "stream",
     "text": [
      "Initialization complete\n",
      "Iteration 0, inertia 4145.219553443439.\n",
      "Iteration 1, inertia 2203.98116999612.\n",
      "Iteration 2, inertia 2182.036367654857.\n",
      "Iteration 3, inertia 2169.249128065219.\n",
      "Iteration 4, inertia 2166.486150798206.\n",
      "Iteration 5, inertia 2165.6257624883574.\n",
      "Iteration 6, inertia 2165.221209079781.\n",
      "Iteration 7, inertia 2165.025580120152.\n",
      "Iteration 8, inertia 2164.960060675322.\n",
      "Iteration 9, inertia 2164.9188650787546.\n",
      "Iteration 10, inertia 2164.8947834436512.\n",
      "Iteration 11, inertia 2164.89301731486.\n",
      "Iteration 12, inertia 2164.891276898463.\n",
      "Converged at iteration 12: strict convergence.\n",
      "[[ 84  23]\n",
      " [134  20]]\n",
      "Accuracy :  0.39846743295019155\n",
      "Precision :  0.4324033133138288\n",
      "Recall :  0.39846743295019155\n"
     ]
    }
   ],
   "source": [
    "km = KMeans(n_clusters=2, init='k-means++', max_iter=100, n_init=1, verbose=True)\n",
    "model_4 = Pipeline([('vectorizer',tvec),('classifier',km)])\n",
    "model_4.fit(X_train,Y_train)\n",
    "\n",
    "y_pred = model_4.predict(X_test)\n",
    "\n",
    "print(confusion_matrix(y_pred,Y_test))\n",
    "print(\"Accuracy : \", accuracy_score(y_pred,Y_test))\n",
    "print(\"Precision : \", precision_score(y_pred,Y_test, average = 'weighted'))\n",
    "print(\"Recall : \", recall_score(y_pred,Y_test, average = 'weighted'))"
   ]
  },
  {
   "cell_type": "markdown",
   "metadata": {},
   "source": [
    "ID3"
   ]
  },
  {
   "cell_type": "code",
   "execution_count": 28,
   "metadata": {},
   "outputs": [
    {
     "name": "stdout",
     "output_type": "stream",
     "text": [
      "[[214   3]\n",
      " [  4  40]]\n",
      "Accuracy :  0.9731800766283525\n",
      "Precision :  0.9729830696628073\n",
      "Recall :  0.9731800766283525\n"
     ]
    }
   ],
   "source": [
    "dtc = DecisionTreeClassifier(criterion=\"entropy\")\n",
    "model_5 = Pipeline([('vectorizer',tvec),('classifier',dtc)])\n",
    "model_5.fit(X_train,Y_train)\n",
    "\n",
    "y_pred = model_5.predict(X_test)\n",
    "\n",
    "print(confusion_matrix(y_pred,Y_test))\n",
    "print(\"Accuracy : \", accuracy_score(y_pred,Y_test))\n",
    "print(\"Precision : \", precision_score(y_pred,Y_test, average = 'weighted'))\n",
    "print(\"Recall : \", recall_score(y_pred,Y_test, average = 'weighted'))"
   ]
  }
 ],
 "metadata": {
  "kernelspec": {
   "display_name": "Python 3",
   "language": "python",
   "name": "python3"
  },
  "language_info": {
   "codemirror_mode": {
    "name": "ipython",
    "version": 3
   },
   "file_extension": ".py",
   "mimetype": "text/x-python",
   "name": "python",
   "nbconvert_exporter": "python",
   "pygments_lexer": "ipython3",
   "version": "3.9.6"
  },
  "orig_nbformat": 4
 },
 "nbformat": 4,
 "nbformat_minor": 2
}
